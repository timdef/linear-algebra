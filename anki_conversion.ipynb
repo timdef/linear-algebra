{
 "cells": [
  {
   "cell_type": "code",
   "execution_count": null,
   "metadata": {
    "collapsed": false
   },
   "outputs": [],
   "source": [
    "\"\"\" Script to convert my notes with latex into anki flashcards. \"\"\"\n",
    "\"\"\" Take a text file, export text with questions and answers separated by semicolons\"\"\"\n",
    "\n",
    "def has_single_semicolon(line):\n",
    "    semicolon_count = 0 \n",
    "    for character in line:\n",
    "        if character == ';':\n",
    "            semicolon_count += 1\n",
    "    if semicolon_count != 1:\n",
    "        return False\n",
    "    else:\n",
    "        return True\n",
    "\n",
    "def add_latex_tags(card):\n",
    "    tag_open = True\n",
    "    tag_positions = []\n",
    "    new_line = card\n",
    "    for character_index, character in enumerate(card):\n",
    "        if character == '$':\n",
    "            tag_positions.append(character_index)\n",
    "    if len(tag_positions) % 2 != 0:\n",
    "        print 'Error, missing tag.'\n",
    "    for position in sorted(tag_positions, reverse=True):\n",
    "        if tag_open == True:\n",
    "            new_line = new_line[:position] + '[/' + new_line[position] + ']' + new_line[position+1:]\n",
    "            tag_open = False\n",
    "        else:\n",
    "            new_line = new_line[:position] + '[' + new_line[position] + ']' + new_line[position+1:]\n",
    "            tag_open = True \n",
    "    return new_line\n",
    "\n",
    "def anki_conversion(doc, new_filename):\n",
    "    with open(doc, 'r') as full_text, \\\n",
    "         open(doc[:-4]+'_formatted.txt','w') as formatted_cards, \\\n",
    "         open(doc[:-4]+'_errors.txt','w') as card_errors:      \n",
    "        \n",
    "        for line in full_text:\n",
    "            if has_single_semicolon(line):\n",
    "                formatted_cards.write(add_latex_tags(line))\n",
    "            else:\n",
    "                card_errors.write(line)\n",
    "\n",
    "anki_conversion('flashcards_1_4_Functions_and_Inverses.txt', 'flashcards_1_4_Functions_and_Inverses_formatted.txt')"
   ]
  }
 ],
 "metadata": {
  "kernelspec": {
   "display_name": "Python 2",
   "language": "python",
   "name": "python2"
  },
  "language_info": {
   "codemirror_mode": {
    "name": "ipython",
    "version": 2
   },
   "file_extension": ".py",
   "mimetype": "text/x-python",
   "name": "python",
   "nbconvert_exporter": "python",
   "pygments_lexer": "ipython2",
   "version": "2.7.13"
  }
 },
 "nbformat": 4,
 "nbformat_minor": 2
}
