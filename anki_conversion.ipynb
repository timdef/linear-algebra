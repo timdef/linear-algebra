{
 "cells": [
  {
   "cell_type": "code",
   "execution_count": null,
   "metadata": {
    "collapsed": true
   },
   "outputs": [],
   "source": [
    "### Script to convert my notes with latex into anki flashcards.\n",
    "\"\"\" Take a markdown file, export text or csv\"\"\"\n",
    "\n",
    "#find an open '$' change to [latex], next '$' close with [/latex]\n",
    "#defend against missed returns by checking for two smi-colons\n",
    "\n",
    "def anki_conversion(doc, new_filename):\n",
    "    # read each line\n",
    "    # check for two semicolons\n",
    "        #if true, push to intermediary file, print warning\n",
    "    # check for '$' "
   ]
  },
  {
   "cell_type": "code",
   "execution_count": null,
   "metadata": {
    "collapsed": true
   },
   "outputs": [],
   "source": [
    "# Test cases.\n",
    "\n",
    "#Simple case.\n",
    "doc = 'This is the question.; Here is the answer.'\n",
    "\n",
    "#Two semi-colons\n",
    "doc = 'This is two cards.; This is the first answer  Forgot to type the return; Second Answer'\n",
    "\n",
    "#Latex in markdown.\n",
    "doc = 'Square root $\\sqrt{2}$; Answer Square root of two.'\n",
    "\n",
    "#More complicated markdown.\n",
    "doc = ''"
   ]
  }
 ],
 "metadata": {
  "kernelspec": {
   "display_name": "Python 2",
   "language": "python",
   "name": "python2"
  },
  "language_info": {
   "codemirror_mode": {
    "name": "ipython",
    "version": 2
   },
   "file_extension": ".py",
   "mimetype": "text/x-python",
   "name": "python",
   "nbconvert_exporter": "python",
   "pygments_lexer": "ipython2",
   "version": "2.7.13"
  }
 },
 "nbformat": 4,
 "nbformat_minor": 2
}
