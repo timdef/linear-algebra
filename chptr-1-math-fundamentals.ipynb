{
 "cells": [
  {
   "cell_type": "markdown",
   "metadata": {},
   "source": [
    "Notes/Flashcards from 'No Bullshit Guide to Linear Algebra'"
   ]
  },
  {
   "cell_type": "markdown",
   "metadata": {},
   "source": [
    "# 1.2 Numbers\n",
    "\n",
    "What is $\\mathbb{N}$; Set of all Natural numbers, simplest numbers, only positive, as if counting. \n",
    "What is $\\mathbb{Z}$; Set of all Integers, includes negatives. No fractional amounts.  \n",
    "What is $\\mathbb{Q}$; Set of all Rational numbers, set of fractions of integers\n",
    "What is $\\mathbb{R}$; Set of all Real numbers, includes irrational numbers.\n",
    "What are Irrational numbers?; Numbers that can't be created with integer fractions. ie $\\sqrt{2}$  \n",
    "What is $\\mathbb{C}$; Complex numbers, includes square root of negative numbers.  \n",
    "Why is addition *commutative*?; $a + b = b + a$ Order added doesn't matter.  \n",
    "Where does the term commutative come from?; Commute, to move around\n",
    "Why is addition *associative*?; $a+b+c= (a+b)+c$ or $a+(b+c)$ It doesn't matter how things are grouped.  \n",
    "Where does the term associative come from?; associate, or group  \n",
    "What is subtraction?; The inverse operation of addition.  \n",
    "How can multiplication be defined?; repeated addition, area calculation. ab = a + a (b times) or b + b (a times)  \n",
    "Is multiplication commutative?; Yes, $ab = ba$  \n",
    "Is multiplication associative?; Yes, $abc = (ab)c = a(bc)$  \n",
    "What is division?; The inverse operation of multiplication. $a/b = \\frac{a}{b} =$ one $b^{th}$ of $a$. Whatever $a$ is, divide into $b$ equal parts and take one such part.  \n",
    "What is exponentiation?; The act of multiplying a number by itself.  \n",
    "What does $a^{n}$ mean?; A times itself n times.  \n",
    "What does $\\equiv$ mean?; Used when defining a new mathematical variable or expression.  \n",
    "What does a negative exponent mean?; Divide by. $a^{-n} \\equiv \\frac{1}{a^{n}} = \\frac{1}{a(ntimes)}$\n",
    "\n",
    "\n"
   ]
  }
 ],
 "metadata": {
  "anaconda-cloud": {},
  "kernelspec": {
   "display_name": "Python [default]",
   "language": "python",
   "name": "python2"
  },
  "language_info": {
   "codemirror_mode": {
    "name": "ipython",
    "version": 2
   },
   "file_extension": ".py",
   "mimetype": "text/x-python",
   "name": "python",
   "nbconvert_exporter": "python",
   "pygments_lexer": "ipython2",
   "version": "2.7.12"
  }
 },
 "nbformat": 4,
 "nbformat_minor": 1
}
