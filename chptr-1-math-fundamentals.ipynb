{
 "cells": [
  {
   "cell_type": "markdown",
   "metadata": {},
   "source": [
    "Notes/Flashcards for 'No Bullshit Guide to Linear Algebra'"
   ]
  },
  {
   "cell_type": "markdown",
   "metadata": {},
   "source": [
    "# 1.2 Numbers\n",
    "\n",
    "What is $\\mathbb{N}$; Set of all Natural numbers, simplest numbers, only positive, as if counting.   \n",
    "What is $\\mathbb{Z}$; Set of all Integers, includes negatives. No fractional amounts.  \n",
    "What is $\\mathbb{Q}$; Set of all Rational numbers, set of fractions of integers  \n",
    "What is $\\mathbb{R}$; Set of all Real numbers, includes irrational numbers.  \n",
    "What are Irrational numbers?; Numbers that can't be created with integer fractions. ie $\\sqrt{2}$  \n",
    "What is $\\mathbb{C}$; Complex numbers, includes square root of negative numbers.    \n",
    "Why is addition *commutative*?; $a + b = b + a$ Order added doesn't matter.  \n",
    "Where does the term commutative come from?; Commute, to move around  \n",
    "Why is addition *associative*?; $a+b+c= (a+b)+c$ or $a+(b+c)$ It doesn't matter how things are grouped.  \n",
    "Where does the term associative come from?; associate, or group  \n",
    "What is subtraction?; The inverse operation of addition.  \n",
    "How can multiplication be defined?; repeated addition, area calculation. ab = a + a (b times) or b + b (a times)  \n",
    "Is multiplication commutative?; Yes, $ab = ba$  \n",
    "Is multiplication associative?; Yes, $abc = (ab)c = a(bc)$  \n",
    "What is division?; The inverse operation of multiplication. $a/b = \\frac{a}{b} =$ one $b^{th}$ of $a$. Whatever $a$ is, divide into $b$ equal parts and take one such part.  \n",
    "What is exponentiation?; The act of multiplying a number by itself.  \n",
    "What does $a^{n}$ mean?; $a$ times itself n times.  \n",
    "What does $\\equiv$ mean?; Used when defining a new mathematical variable or expression.  \n",
    "What does a negative exponent mean?; Divide by. $a^{-n} \\equiv \\frac{1}{a^{n}} = \\frac{1}{a(ntimes)}$  \n",
    "What is a rule about exponents that makes negative exponents being defined as division make sense?; $a^{m}a^{-n} = aaa \\cdot\\cdot\\cdot a$ m times $\\frac{1}{aaa\\cdot n times} = \\frac{a\\cdot m times}{a\\cdot n times} = aa\\cdot\\cdot a$ m - n times $ = a^{m-n}$  \n",
    "What kind of operations are fractional exponents? $a^{\\frac{1}{2}}$ $a^{\\frac{1}{3}}$; Square-root-like. $a^{\\frac{1}{2}}\\equiv\\sqrt[2]{a}$  $a^{\\frac{1}{3}}\\equiv\\sqrt[3]{a}$  \n",
    "What equation does a cube root satisfy for $a$?; $\\sqrt[3]{a}\\sqrt[3]{a}\\sqrt[3]{a}=a^{\\frac{1}{3}}a^{\\frac{1}{3}}a^{\\frac{1}{3}}=a^{\\frac{1+1+1}{3+3+3}}=a^{1}=a$  \n",
    "What is the inverse operation of $\\sqrt[3]{x}$; $x^{3}$\n",
    "\n",
    "\n"
   ]
  },
  {
   "cell_type": "markdown",
   "metadata": {},
   "source": [
    "## 1.3 Variables\n",
    "What is a variable?; Placeholder names for and number or unknown.  \n",
    "What is this symbol commonly denote: $x$; unknown in equations, functions input  \n",
    "What is this symbol called? Denotes? $\\theta$; Theta, angles  \n",
    "What is this symbol called? Denotes? $\\varphi$; Phi, angles"
   ]
  },
  {
   "cell_type": "markdown",
   "metadata": {},
   "source": [
    "Notes:  \n",
    "Variable substitution: can replace one unknown variable with another to simplify equation. 'let $u = \\sqrt{x}$' Just need to change back eventually.  \n",
    "This can help you deal with notational complexity.  "
   ]
  },
  {
   "cell_type": "markdown",
   "metadata": {},
   "source": [
    "Learner Thoughts:  \n",
    "I think here when we hop into the quadratic equation we might be freaking people out for whom this is not a refresher but a bottoms up learning."
   ]
  },
  {
   "cell_type": "markdown",
   "metadata": {},
   "source": [
    "## 1.4 Functions and their inverses\n",
    "How do you 'undo' or solve for a function?; Find it's inverse.  \n",
    "What does the inverse of a function do?; Performs the opposite action, cancels its inverse out.  \n",
    "How do you solve for x in the equation $f(x) = c$?; $f^{-1}(f(x)) = x = f^{-1}(c)$  \n",
    "What is the inverse of $x + 2$; $x - 2$  \n",
    "What is the inverse of $2x$?; $\\frac{1}{2}x$  \n",
    "What is the inverse of $-1x$?; $-1x$  \n",
    "What is the inverse of $x^{2}$; $\\pm\\sqrt{x}$  \n",
    "What is the inverse of $3x + 5$; $\\frac{1}{3}(x-5)$\n"
   ]
  }
 ],
 "metadata": {
  "anaconda-cloud": {},
  "kernelspec": {
   "display_name": "Python [default]",
   "language": "python",
   "name": "python2"
  },
  "language_info": {
   "codemirror_mode": {
    "name": "ipython",
    "version": 2
   },
   "file_extension": ".py",
   "mimetype": "text/x-python",
   "name": "python",
   "nbconvert_exporter": "python",
   "pygments_lexer": "ipython2",
   "version": "2.7.12"
  }
 },
 "nbformat": 4,
 "nbformat_minor": 1
}
