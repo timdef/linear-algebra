{
 "cells": [
  {
   "cell_type": "markdown",
   "metadata": {},
   "source": [
    "Notes/Flashcards for 'No Bullshit Guide to Linear Algebra'"
   ]
  },
  {
   "cell_type": "markdown",
   "metadata": {},
   "source": [
    "# 1.2 Numbers\n",
    "\n",
    "What is $\\mathbb{N}$; Set of all Natural numbers, simplest numbers, only positive, as if counting.   \n",
    "What is $\\mathbb{Z}$; Set of all Integers, includes negatives. No fractional amounts.  \n",
    "What is $\\mathbb{Q}$; Set of all Rational numbers, set of fractions of integers  \n",
    "What is $\\mathbb{R}$; Set of all Real numbers, includes irrational numbers.  \n",
    "What are Irrational numbers?; Numbers that can't be created with integer fractions. ie $\\sqrt{2}$  \n",
    "What is $\\mathbb{C}$; Complex numbers, includes square root of negative numbers.    \n",
    "Why is addition *commutative*?; $a + b = b + a$ Order added doesn't matter.  \n",
    "Where does the term commutative come from?; Commute, to move around  \n",
    "Why is addition *associative*?; $a+b+c= (a+b)+c$ or $a+(b+c)$ It doesn't matter how things are grouped.  \n",
    "Where does the term associative come from?; associate, or group  \n",
    "What is subtraction?; The inverse operation of addition.  \n",
    "How can multiplication be defined?; repeated addition, area calculation. ab = a + a (b times) or b + b (a times)  \n",
    "Is multiplication commutative?; Yes, $ab = ba$  \n",
    "Is multiplication associative?; Yes, $abc = (ab)c = a(bc)$  \n",
    "What is division?; The inverse operation of multiplication. $a/b = \\frac{a}{b} =$ one $b^{th}$ of $a$. Whatever $a$ is, divide into $b$ equal parts and take one such part.  \n",
    "What is exponentiation?; The act of multiplying a number by itself.  \n",
    "What does $a^{n}$ mean?; $a$ times itself n times.  \n",
    "What does $\\equiv$ mean?; Used when defining a new mathematical variable or expression.  \n",
    "What does a negative exponent mean?; Divide by. $a^{-n} \\equiv \\frac{1}{a^{n}} = \\frac{1}{a(ntimes)}$  \n",
    "What is a rule about exponents that makes negative exponents being defined as division make sense?; $a^{m}a^{-n} = aaa \\cdot\\cdot\\cdot a$ m times $\\frac{1}{aaa\\cdot n times} = \\frac{a\\cdot m times}{a\\cdot n times} = aa\\cdot\\cdot a$ m - n times $ = a^{m-n}$  \n",
    "What kind of operations are fractional exponents? $a^{\\frac{1}{2}}$ $a^{\\frac{1}{3}}$; Square-root-like. $a^{\\frac{1}{2}}\\equiv\\sqrt[2]{a}$  $a^{\\frac{1}{3}}\\equiv\\sqrt[3]{a}$  \n",
    "What equation does a cube root satisfy for $a$?; $\\sqrt[3]{a}\\sqrt[3]{a}\\sqrt[3]{a}=a^{\\frac{1}{3}}a^{\\frac{1}{3}}a^{\\frac{1}{3}}=a^{\\frac{1+1+1}{3+3+3}}=a^{1}=a$  \n",
    "What is the inverse operation of $\\sqrt[3]{x}$; $x^{3}$"
   ]
  },
  {
   "cell_type": "markdown",
   "metadata": {},
   "source": [
    "## 1.3 Variables\n",
    "What is a variable?; Placeholder names for and number or unknown.  \n",
    "What is this symbol commonly denote: $x$; unknown in equations, functions input  \n",
    "What is this symbol called? Denotes? $\\theta$; Theta, angles  \n",
    "What is this symbol called? Denotes? $\\varphi$; Phi, angles"
   ]
  },
  {
   "cell_type": "markdown",
   "metadata": {},
   "source": [
    "### Notes:  \n",
    "Variable substitution: can replace one unknown variable with another to simplify equation. 'let $u = \\sqrt{x}$' Just need to change back eventually.  \n",
    "This can help you deal with notational complexity.  "
   ]
  },
  {
   "cell_type": "markdown",
   "metadata": {},
   "source": [
    "### Learner Thoughts:  \n",
    "I think here when we hop into the quadratic equation we might be freaking people out for whom this is not a refresher but a bottoms up learning."
   ]
  },
  {
   "cell_type": "markdown",
   "metadata": {},
   "source": [
    "## 1.4 Functions and their inverses\n",
    "How do you 'undo' or solve for a function?; Find it's inverse.  \n",
    "What does the inverse of a function do?; Performs the opposite action, cancels its inverse out.  \n",
    "How do you solve for x in the equation $f(x) = c$?; $f^{-1}(f(x)) = x = f^{-1}(c)$  \n",
    "What is the inverse of $x + 2$; $x - 2$  \n",
    "What is the inverse of $2x$?; $\\frac{1}{2}x$  \n",
    "What is the inverse of $-1x$?; $-1x$  \n",
    "What is the inverse of $x^{2}$; $\\pm\\sqrt{x}$  \n",
    "What is the inverse of $3x + 5$; $\\frac{1}{3}(x-5)$  \n",
    "What is the inverse of $a^{x}$; $\\text{log}_{a}(x)$  \n",
    "What is the inverse of $\\text{exp}(x) \\equiv e^{x}$; $\\text{ln}(x) \\equiv \\text{log}_{e}(x)$  \n",
    "What is the inverse of $\\text{sin}(x)$; $\\text{sin}^{-1}(x) \\equiv \\text{arcsin}(x)$  \n",
    "What is the inverse of $\\text{cos}(x)$; $\\text{cos}^{-1}(x) \\equiv \\text{arccos}(x)$\n"
   ]
  },
  {
   "cell_type": "markdown",
   "metadata": {},
   "source": [
    "# 1.5 Basic Rules of Algebra\n",
    "\n",
    "When an expression consists of multiple parts added together, what are those parts called?; terms  \n",
    "If $x = abc$ what can refer to $abc$ as?; Factors of $x$  \n",
    "What is the distributive property?; $a(b + c) = ab + ac$ Multiplying the expression by $a$ is the same as multiplying each factor by $a$  \n",
    "What is factoring?; Opposite of expanding, rewriting an expression with the common parts taken out. $ab + ac = a(b+c)$  \n",
    "What product of two factors are equal to a quadratic equation?; $(x+?)$  \n",
    "What pattern do we use when dealing with different powers of $x$?; Group terms containing each unique power.  \n",
    "What does factoring involve?; Taking out common parts of an equation to make the expression more compact. \n",
    "Factor this equation: $2x^{2}y+2x+4x$; 2x(xy+3)  \n",
    "What is often useful when dealing with quadratic equations?; Rewriting as a product of two factors. Helps us see the properties of the function more clearly.  \n",
    "For $(x-2)(x-4)$ what x values make the function positive?; 2 < x < 4  "
   ]
  },
  {
   "cell_type": "markdown",
   "metadata": {},
   "source": [
    "# 1.6 Solving Quadratic Equations\n",
    "\n",
    "Where does the name Quadratic come from?; The latin Quadratus meaning square.  \n",
    "What is the standard form of the quadratic equation??; $ax^{2}+ bx + c = 0$  \n",
    "What is the quadratic formula?; $x = \\frac{-b\\pm\\sqrt{b^{2}-4ac}}{2a}$  \n",
    "\n"
   ]
  }
 ],
 "metadata": {
  "anaconda-cloud": {},
  "kernelspec": {
   "display_name": "Python 2",
   "language": "python",
   "name": "python2"
  },
  "language_info": {
   "codemirror_mode": {
    "name": "ipython",
    "version": 2
   },
   "file_extension": ".py",
   "mimetype": "text/x-python",
   "name": "python",
   "nbconvert_exporter": "python",
   "pygments_lexer": "ipython2",
   "version": "2.7.13"
  }
 },
 "nbformat": 4,
 "nbformat_minor": 1
}
